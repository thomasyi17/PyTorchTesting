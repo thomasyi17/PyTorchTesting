{
 "cells": [
  {
   "cell_type": "code",
   "execution_count": 2,
   "id": "3952c183",
   "metadata": {},
   "outputs": [],
   "source": [
    "import matplotlib.pyplot as plt\n",
    "import numpy as np\n",
    "import pandas as pd\n",
    "import seaborn as sns\n",
    "import torch\n",
    "from torch import nn\n",
    "from torch import optim\n",
    "from torch.utils.data import DataLoader\n",
    "from torchvision import datasets\n",
    "from torchvision.transforms import ToTensor"
   ]
  },
  {
   "cell_type": "markdown",
   "id": "6770f008",
   "metadata": {},
   "source": [
    "## Setup"
   ]
  },
  {
   "cell_type": "code",
   "execution_count": 3,
   "id": "c4042bd7",
   "metadata": {},
   "outputs": [
    {
     "name": "stdout",
     "output_type": "stream",
     "text": [
      "Using cuda device\n"
     ]
    }
   ],
   "source": [
    "# Get cpu or gpu device for training.\n",
    "device = \"cuda\" if torch.cuda.is_available() else \"cpu\"\n",
    "print(f\"Using {device} device\")"
   ]
  },
  {
   "cell_type": "code",
   "execution_count": 4,
   "id": "fbba117d",
   "metadata": {},
   "outputs": [
    {
     "name": "stdout",
     "output_type": "stream",
     "text": [
      "Current Cuda Device: 0\n",
      "Device 0 name: NVIDIA GeForce GTX 1060\n"
     ]
    }
   ],
   "source": [
    "print(\"Current Cuda Device: {}\".format(torch.cuda.current_device()))\n",
    "print(\"Device 0 name: {}\".format(torch.cuda.get_device_name(0)))"
   ]
  },
  {
   "cell_type": "code",
   "execution_count": 5,
   "id": "92c9f184",
   "metadata": {},
   "outputs": [],
   "source": [
    "# Define model\n",
    "class NeuralNetwork(nn.Module):\n",
    "    def __init__(self):\n",
    "        super(NeuralNetwork, self).__init__()\n",
    "        self.conv1 = nn.Conv2d(1, 32, 3, 1)\n",
    "        self.flatten = nn.Flatten()\n",
    "        self.dropout = nn.Dropout(0.25)\n",
    "        self.linear = nn.Linear(21632, 500)\n",
    "        self.linear2 = nn.Linear(500, 10)\n",
    "        self.leakyrelu = nn.LeakyReLU(negative_slope=0.01)\n",
    "        self.relu = nn.ReLU()\n",
    "#         self.stack = nn.Sequential(\n",
    "#             nn.ReLU(),\n",
    "#             nn.MaxPool2d(2)\n",
    "#         )\n",
    "\n",
    "    def forward(self, x):\n",
    "        x = self.conv1(x)\n",
    "        x = self.leakyrelu(x)\n",
    "        x = self.dropout(x)\n",
    "        x = self.flatten(x)\n",
    "        x = self.linear(x)\n",
    "        x = self.relu(x)\n",
    "        logits = self.linear2(x)\n",
    "        return logits"
   ]
  },
  {
   "cell_type": "code",
   "execution_count": 6,
   "id": "19d059c1",
   "metadata": {
    "scrolled": true
   },
   "outputs": [
    {
     "name": "stdout",
     "output_type": "stream",
     "text": [
      "NeuralNetwork(\n",
      "  (conv1): Conv2d(1, 32, kernel_size=(3, 3), stride=(1, 1))\n",
      "  (flatten): Flatten(start_dim=1, end_dim=-1)\n",
      "  (dropout): Dropout(p=0.25, inplace=False)\n",
      "  (linear): Linear(in_features=21632, out_features=500, bias=True)\n",
      "  (linear2): Linear(in_features=500, out_features=10, bias=True)\n",
      "  (leakyrelu): LeakyReLU(negative_slope=0.01)\n",
      "  (relu): ReLU()\n",
      ")\n"
     ]
    }
   ],
   "source": [
    "model = NeuralNetwork().to(device)\n",
    "print(model)"
   ]
  },
  {
   "cell_type": "code",
   "execution_count": 7,
   "id": "3f7c7101",
   "metadata": {},
   "outputs": [],
   "source": [
    "loss_fn = nn.CrossEntropyLoss()\n",
    "# optimizer = torch.optim.SGD(model.parameters(), lr=1e-3)\n",
    "optimizer = optim.Adam(model.parameters(), lr = 0.005)  "
   ]
  },
  {
   "cell_type": "code",
   "execution_count": 8,
   "id": "d31f01ab",
   "metadata": {},
   "outputs": [],
   "source": [
    "def train(dataloader, model, loss_fn, optimizer):\n",
    "    size = len(dataloader.dataset)\n",
    "    model.train()\n",
    "    for batch, (X, y) in enumerate(dataloader):\n",
    "        X, y = X.to(device), y.to(device)\n",
    "\n",
    "        # Compute prediction error\n",
    "        pred = model(X)\n",
    "        loss = loss_fn(pred, y)\n",
    "\n",
    "        # Backpropagation\n",
    "        optimizer.zero_grad()\n",
    "        loss.backward()\n",
    "        optimizer.step()\n",
    "\n",
    "        if batch % 100 == 0:\n",
    "            loss, current = loss.item(), batch * len(X)\n",
    "            print(f\"loss: {loss:>7f}  [{current:>5d}/{size:>5d}]\")"
   ]
  },
  {
   "cell_type": "code",
   "execution_count": 9,
   "id": "65fd8b8c",
   "metadata": {},
   "outputs": [],
   "source": [
    "def test(dataloader, model, loss_fn):\n",
    "    size = len(dataloader.dataset)\n",
    "    num_batches = len(dataloader)\n",
    "    model.eval()\n",
    "    test_loss, correct = 0, 0\n",
    "    with torch.no_grad():\n",
    "        for X, y in dataloader:\n",
    "            X, y = X.to(device), y.to(device)\n",
    "            pred = model(X)\n",
    "            test_loss += loss_fn(pred, y).item()\n",
    "            correct += (pred.argmax(1) == y).type(torch.float).sum().item()\n",
    "    test_loss /= num_batches\n",
    "    correct /= size\n",
    "    print(f\"Test Error: \\n Accuracy: {(100*correct):>0.1f}%, Avg loss: {test_loss:>8f} \\n\")"
   ]
  },
  {
   "cell_type": "markdown",
   "id": "40c8dd24",
   "metadata": {},
   "source": [
    "### Testing on Public MNIST Dataset"
   ]
  },
  {
   "cell_type": "code",
   "execution_count": 10,
   "id": "0369e574",
   "metadata": {},
   "outputs": [],
   "source": [
    "training_data = datasets.MNIST(\n",
    "    root=\"data\",\n",
    "    train=True,\n",
    "    download=True,\n",
    "    transform=ToTensor(),\n",
    ")"
   ]
  },
  {
   "cell_type": "code",
   "execution_count": 11,
   "id": "6b3f0624",
   "metadata": {},
   "outputs": [],
   "source": [
    "test_data = datasets.MNIST(\n",
    "    root=\"data\",\n",
    "    train=False,\n",
    "    download=True,\n",
    "    transform=ToTensor(),\n",
    ")"
   ]
  },
  {
   "cell_type": "code",
   "execution_count": 12,
   "id": "53dcd214",
   "metadata": {},
   "outputs": [
    {
     "name": "stdout",
     "output_type": "stream",
     "text": [
      "Shape of X [N, C, H, W]: torch.Size([64, 1, 28, 28])\n",
      "Shape of y: torch.Size([64]) torch.int64\n"
     ]
    }
   ],
   "source": [
    "batch_size = 64\n",
    "\n",
    "# Create data loaders.\n",
    "train_dataloader = DataLoader(training_data, batch_size=batch_size)\n",
    "test_dataloader = DataLoader(test_data, batch_size=batch_size)\n",
    "\n",
    "for X, y in train_dataloader:\n",
    "    print(f\"Shape of X [N, C, H, W]: {X.shape}\")\n",
    "    print(f\"Shape of y: {y.shape} {y.dtype}\")\n",
    "    break"
   ]
  },
  {
   "cell_type": "code",
   "execution_count": 13,
   "id": "4ef1bb72",
   "metadata": {},
   "outputs": [
    {
     "data": {
      "image/png": "[encoded data removed]",
      "text/plain": [
       "<Figure size 432x288 with 2 Axes>"
      ]
     },
     "metadata": {
      "needs_background": "light"
     },
     "output_type": "display_data"
    },
    {
     "name": "stdout",
     "output_type": "stream",
     "text": [
      "Ground truth: 4\n"
     ]
    }
   ],
   "source": [
    "# Sample visualization\n",
    "n = 2  # slice\n",
    "plt.imshow(X[n][0], interpolation='nearest')\n",
    "plt.colorbar()\n",
    "plt.show()\n",
    "print(\"Ground truth: {}\".format(y[n]))"
   ]
  },
  {
   "cell_type": "code",
   "execution_count": 14,
   "id": "c4eeab30",
   "metadata": {},
   "outputs": [
    {
     "name": "stdout",
     "output_type": "stream",
     "text": [
      "Epoch 1\n",
      "-------------------------------\n",
      "loss: 2.305229  [    0/60000]\n",
      "loss: 0.211503  [ 6400/60000]\n",
      "loss: 0.211823  [12800/60000]\n",
      "loss: 0.159003  [19200/60000]\n",
      "loss: 0.100671  [25600/60000]\n",
      "loss: 0.201812  [32000/60000]\n",
      "loss: 0.128192  [38400/60000]\n",
      "loss: 0.172958  [44800/60000]\n",
      "loss: 0.328848  [51200/60000]\n",
      "loss: 0.111870  [57600/60000]\n",
      "Test Error: \n",
      " Accuracy: 97.3%, Avg loss: 0.080121 \n",
      "\n",
      "Epoch 2\n",
      "-------------------------------\n",
      "loss: 0.065831  [    0/60000]\n",
      "loss: 0.146562  [ 6400/60000]\n",
      "loss: 0.076810  [12800/60000]\n",
      "loss: 0.040751  [19200/60000]\n",
      "loss: 0.017531  [25600/60000]\n",
      "loss: 0.108972  [32000/60000]\n",
      "loss: 0.109498  [38400/60000]\n",
      "loss: 0.112237  [44800/60000]\n",
      "loss: 0.116284  [51200/60000]\n",
      "loss: 0.084429  [57600/60000]\n",
      "Test Error: \n",
      " Accuracy: 97.5%, Avg loss: 0.077717 \n",
      "\n",
      "Epoch 3\n",
      "-------------------------------\n",
      "loss: 0.076190  [    0/60000]\n",
      "loss: 0.046870  [ 6400/60000]\n",
      "loss: 0.019136  [12800/60000]\n",
      "loss: 0.084860  [19200/60000]\n",
      "loss: 0.013721  [25600/60000]\n",
      "loss: 0.013802  [32000/60000]\n",
      "loss: 0.132141  [38400/60000]\n",
      "loss: 0.023727  [44800/60000]\n",
      "loss: 0.115931  [51200/60000]\n",
      "loss: 0.026086  [57600/60000]\n",
      "Test Error: \n",
      " Accuracy: 97.9%, Avg loss: 0.071826 \n",
      "\n",
      "Epoch 4\n",
      "-------------------------------\n",
      "loss: 0.019921  [    0/60000]\n",
      "loss: 0.010130  [ 6400/60000]\n",
      "loss: 0.029052  [12800/60000]\n",
      "loss: 0.046470  [19200/60000]\n",
      "loss: 0.024164  [25600/60000]\n",
      "loss: 0.043723  [32000/60000]\n",
      "loss: 0.006163  [38400/60000]\n",
      "loss: 0.055028  [44800/60000]\n",
      "loss: 0.122745  [51200/60000]\n",
      "loss: 0.014197  [57600/60000]\n",
      "Test Error: \n",
      " Accuracy: 97.3%, Avg loss: 0.098826 \n",
      "\n",
      "Epoch 5\n",
      "-------------------------------\n",
      "loss: 0.080007  [    0/60000]\n",
      "loss: 0.011330  [ 6400/60000]\n",
      "loss: 0.020319  [12800/60000]\n",
      "loss: 0.058939  [19200/60000]\n",
      "loss: 0.042057  [25600/60000]\n",
      "loss: 0.064751  [32000/60000]\n",
      "loss: 0.043960  [38400/60000]\n",
      "loss: 0.092433  [44800/60000]\n",
      "loss: 0.104001  [51200/60000]\n",
      "loss: 0.002150  [57600/60000]\n",
      "Test Error: \n",
      " Accuracy: 97.9%, Avg loss: 0.088154 \n",
      "\n",
      "Done!\n"
     ]
    }
   ],
   "source": [
    "epochs = 5\n",
    "for t in range(epochs):\n",
    "    print(f\"Epoch {t+1}\\n-------------------------------\")\n",
    "    train(train_dataloader, model, loss_fn, optimizer)\n",
    "    test(test_dataloader, model, loss_fn)\n",
    "print(\"Done!\")"
   ]
  },
  {
   "cell_type": "code",
   "execution_count": null,
   "id": "c6842317",
   "metadata": {},
   "outputs": [],
   "source": []
  }
 ],
 "metadata": {
  "kernelspec": {
   "display_name": "Python 3.9.12 ('base')",
   "language": "python",
   "name": "python3"
  },
  "language_info": {
   "codemirror_mode": {
    "name": "ipython",
    "version": 3
   },
   "file_extension": ".py",
   "mimetype": "text/x-python",
   "name": "python",
   "nbconvert_exporter": "python",
   "pygments_lexer": "ipython3",
   "version": "3.9.12"
  },
  "vscode": {
   "interpreter": {
    "hash": "7d658edeaff6acdc8b4336631f180adfdc2b0716532322f3654722bfb2182602"
   }
  }
 },
 "nbformat": 4,
 "nbformat_minor": 5
}
